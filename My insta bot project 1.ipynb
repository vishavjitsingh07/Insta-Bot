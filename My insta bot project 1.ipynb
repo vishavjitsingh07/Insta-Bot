{
 "cells": [
  {
   "cell_type": "code",
   "execution_count": 1,
   "metadata": {},
   "outputs": [],
   "source": [
    "import selenium\n",
    "from selenium import webdriver\n",
    "from selenium.common.exceptions import NoSuchElementException\n",
    "from selenium.webdriver.common.keys import Keys \n",
    "from selenium.webdriver.support.ui import WebDriverWait\n",
    "from selenium.webdriver.support import expected_conditions as EC\n",
    "from selenium.webdriver.common.by import By\n",
    "from selenium.webdriver.common.action_chains import ActionChains\n",
    "from bs4 import BeautifulSoup as bsp\n",
    "import bs4\n",
    "import time\n",
    "import pandas as pd"
   ]
  },
  {
   "cell_type": "code",
   "execution_count": 2,
   "metadata": {},
   "outputs": [],
   "source": [
    "path = \"C:/Users/DAVKAUR/Desktop/chromedriver\"\n",
    "driver = webdriver.Chrome(path)\n",
    "driver.maximize_window()"
   ]
  },
  {
   "cell_type": "code",
   "execution_count": 3,
   "metadata": {},
   "outputs": [],
   "source": [
    "site = \"https://www.instagram.com/\"\n",
    "driver.get(site)"
   ]
  },
  {
   "cell_type": "code",
   "execution_count": 4,
   "metadata": {},
   "outputs": [],
   "source": [
    "def Login(driver, username, userpwd):\n",
    "    login = False\n",
    "    wait = WebDriverWait(driver, 5)\n",
    "    try:\n",
    "        wait.until(EC.presence_of_element_located((By.NAME,\"username\")))\n",
    "        user = driver.find_element_by_name(\"username\")\n",
    "        user.send_keys(username)\n",
    "        \n",
    "        password = driver.find_element_by_name(\"password\")\n",
    "        password.send_keys(userpwd)\n",
    "        \n",
    "        login_btn = driver.find_element_by_class_name(\"y3zKF\")\n",
    "        login_btn.submit()\n",
    "        login = True\n",
    "        \n",
    "    except Exception:\n",
    "        login = False\n",
    "        \n",
    "    if login:\n",
    "        remove_login_info(driver, wait)\n",
    "        remove_popup(driver, wait)\n",
    "    \n",
    "    return login\n",
    "def remove_login_info(driver, wait):\n",
    "    try :\n",
    "        nt_nw_path = \"/html/body/div[1]/section/main/div/div/div/div/button\"\n",
    "        not_now = wait.until(EC.element_to_be_clickable((By.XPATH,nt_nw_path)))\n",
    "        not_now.click()\n",
    "    except Exception:\n",
    "        return \n",
    "    \n",
    "def remove_popup(driver, wait):\n",
    "    try:\n",
    "        popup_path = '//button[contains(@class, \"HoLwm\")]'\n",
    "        not_now_btn = wait.until(EC.element_to_be_clickable((By.XPATH,popup_path)))\n",
    "        not_now_btn.click()\n",
    "        print(\"Popup Removed\")\n",
    "    except NoSuchElementException:\n",
    "        print(\"No popup\")"
   ]
  },
  {
   "cell_type": "markdown",
   "metadata": {},
   "source": [
    "# 1. Login to your Instagram Handle\n",
    "## 1. Submit with sample username and password"
   ]
  },
  {
   "cell_type": "code",
   "execution_count": 5,
   "metadata": {},
   "outputs": [
    {
     "name": "stdout",
     "output_type": "stream",
     "text": [
      "Popup Removed\n",
      "Login Successfully\n"
     ]
    }
   ],
   "source": [
    "username = \"Sample_username\"\n",
    "userpwd = \"Sample_ID\"\n",
    "if Login(driver, username, userpwd):\n",
    "    print(\"Login Successfully\")\n",
    "else:\n",
    "    print(\"Please Try again\")"
   ]
  },
  {
   "cell_type": "markdown",
   "metadata": {},
   "source": [
    "# 2.1 Search Food"
   ]
  },
  {
   "cell_type": "code",
   "execution_count": 6,
   "metadata": {
    "scrolled": true
   },
   "outputs": [
    {
     "name": "stdout",
     "output_type": "stream",
     "text": [
      "1 amritsarfood\n",
      "2 foodiewe\n",
      "3 no_farmer__no_food\n",
      "4 night_food_factory\n",
      "5 foodie_incarnate\n",
      "6 street_food_chandigarh\n",
      "7 food\n",
      "8 amritsar_food_craver\n",
      "9 dilsefoodie\n",
      "10 ludhianvifood\n",
      "11 food.darzee\n",
      "12 nehapix\n",
      "13 food_mehkma\n",
      "14 food.holicc\n",
      "15 kissanektazindabaad\n",
      "16 ludhiana_foodiess\n",
      "17 food_era_\n",
      "18 foodtalesofficial\n",
      "19 chandigarhfoodfanatics\n",
      "20 amritsar.food.diaries\n",
      "21 thaparfoodfestival\n",
      "22 zamidar.com001\n",
      "23 jatt_nature\n",
      "24 food_cr\n",
      "25 foodporn\n",
      "26 black_lyrical_status\n",
      "27 foodbeast\n",
      "28 food__downtown\n",
      "29 vegvillagefoodofficial\n",
      "30 satkirat__singh\n",
      "31 foodieesince98\n",
      "32 food_by_fortune\n",
      "33 ludhianafoodlovers\n",
      "34 urban_food_nest\n",
      "35 food_blogger_ludhiana\n",
      "36 foodgal106xotiffany_____\n",
      "37 wording_punjabi.01\n",
      "38 foodnetwork\n",
      "39 foodcriticintown\n",
      "40 food_cravings27\n",
      "41 feasterchin\n",
      "42 food_explorer_pb10\n",
      "43 food_decorat_dispozable_shop\n",
      "44 chef_food_foodie\n",
      "45 foodgod\n",
      "46 delicioushealthyvideos\n",
      "47 Food Junction Grand Pakuwon\n",
      "48 thefooddiggerr\n",
      "49 cremicafoods\n"
     ]
    }
   ],
   "source": [
    "search = driver.find_element_by_class_name(\"XTCLo\")\n",
    "search.clear()\n",
    "search.send_keys(\"food\")\n",
    "time.sleep(2)\n",
    "wait = WebDriverWait(driver, 3)\n",
    "wait.until(EC.presence_of_element_located((By.CLASS_NAME, \"qyrsm\")))\n",
    "search_li = driver.find_elements_by_class_name(\"qyrsm\")\n",
    "\n",
    "food_li = []\n",
    "count = 1\n",
    "for i in search_li[8:]:\n",
    "    if i.get_attribute(\"innerHTML\")[0] != \"#\":\n",
    "        food_li.append(i.get_attribute(\"innerHTML\"))\n",
    "        print(count, i.get_attribute(\"innerHTML\"))\n",
    "        count+=1\n",
    "search.clear()"
   ]
  },
  {
   "cell_type": "markdown",
   "metadata": {},
   "source": [
    "# 3.1 So delhi"
   ]
  },
  {
   "cell_type": "code",
   "execution_count": 7,
   "metadata": {},
   "outputs": [],
   "source": [
    "def open_acc(driver, name):\n",
    "    time.sleep(3)\n",
    "    open = False\n",
    "    wait = WebDriverWait(driver, 10) \n",
    "    try:\n",
    "        search_box = wait.until(EC.presence_of_element_located((By.CLASS_NAME, \"XTCLo\")))\n",
    "        search_box.clear()\n",
    "        search_box.send_keys(name)\n",
    "        \n",
    "        time.sleep(3)\n",
    "        #if driver.find_element_by_class_name(\"qyrsm\").get_attribute(\"innerHTML\") == \"sodelhi\":\n",
    "        open_acc = wait.until(EC.presence_of_element_located((By.CLASS_NAME, \"-qQT3\")))\n",
    "        open_acc.click()\n",
    "        title = driver.title\n",
    "        open = True\n",
    "            \n",
    "    except Exception:\n",
    "        open = False\n",
    "        print(\"please try again\")\n",
    "    return open"
   ]
  },
  {
   "cell_type": "code",
   "execution_count": 8,
   "metadata": {},
   "outputs": [
    {
     "name": "stdout",
     "output_type": "stream",
     "text": [
      "Account opened\n"
     ]
    }
   ],
   "source": [
    "open_SD = open_acc(driver, \"sodelhi\")\n",
    "if open_SD:\n",
    "    print(\"Account opened\")"
   ]
  },
  {
   "cell_type": "markdown",
   "metadata": {},
   "source": [
    "# Follow"
   ]
  },
  {
   "cell_type": "code",
   "execution_count": 9,
   "metadata": {},
   "outputs": [],
   "source": [
    "def Follow(driver):\n",
    "    follow = False\n",
    "    wait = WebDriverWait(driver, 3)\n",
    "    try:\n",
    "        flw = wait.until(EC.presence_of_element_located((By.CLASS_NAME, \"yZn4P\")))\n",
    "        if flw.get_attribute(\"innerHTML\") == \"Follow\":\n",
    "            flw.click()\n",
    "            follow = True\n",
    "        else:\n",
    "            print(\"Already Follwed\")\n",
    "            \n",
    "    except Exception:\n",
    "        follow = False\n",
    "        print(\"follow Please Try again\")\n",
    "    return follow"
   ]
  },
  {
   "cell_type": "code",
   "execution_count": 10,
   "metadata": {},
   "outputs": [],
   "source": [
    "def Unfollow(driver):\n",
    "    follow = True\n",
    "    wait = WebDriverWait(driver, 3)\n",
    "    try:\n",
    "        flw = wait.until(EC.presence_of_element_located((By.CLASS_NAME, \"yZn4P\")))\n",
    "        if flw.get_attribute(\"innerHTML\") != \"Follow\":\n",
    "            flw.click()\n",
    "            unfollowbtn = wait.until(EC.presence_of_element_located((By.CLASS_NAME, \"-Cab_\")))\n",
    "            unfollowbtn.click()\n",
    "            follow = False\n",
    "        else:\n",
    "            print(\"Already Unfollwed\")\n",
    "            \n",
    "    except Exception:\n",
    "        print(\"unfollow Please Try again\")\n",
    "    return follow"
   ]
  },
  {
   "cell_type": "code",
   "execution_count": 11,
   "metadata": {},
   "outputs": [
    {
     "name": "stdout",
     "output_type": "stream",
     "text": [
      "Following\n",
      "Already Unfollwed\n",
      "unfollow Error\n"
     ]
    }
   ],
   "source": [
    "follow_SD = Follow(driver)\n",
    "if follow_SD:\n",
    "    print(\"Following\")\n",
    "else:\n",
    "    print(\"follow Error\")\n",
    "    \n",
    "unfollow_SD = Unfollow(driver)\n",
    "if unfollow_SD is not True:\n",
    "    print(\"Unfollowed\")\n",
    "else:\n",
    "    print(\"unfollow Error\")"
   ]
  },
  {
   "cell_type": "code",
   "execution_count": 12,
   "metadata": {},
   "outputs": [],
   "source": [
    "def like_posts(driver):\n",
    "    like = False\n",
    "    wait = WebDriverWait(driver, 5)\n",
    "    try:\n",
    "        time.sleep(3)\n",
    "        post = driver.find_element_by_class_name(\"_9AhH0\")\n",
    "        post.click()\n",
    "        path = \"//*[name()='svg']\"\n",
    "        list = driver.find_elements_by_xpath(path)[34].get_attribute(\"aria-label\")\n",
    "                    \n",
    "        cancle_path = \"//div[5]/div[3]/button\"\n",
    "        cancle = driver.find_element_by_xpath(cancle_path)\n",
    "        cancle.click()\n",
    "        \n",
    "        \n",
    "        if list == \"Like\":\n",
    "            for i in range(5):\n",
    "                post = driver.find_elements_by_class_name(\"_9AhH0\")[i]\n",
    "                post.click()\n",
    "\n",
    "                path = \"//div[3]/section[1]/span[1]/button\"\n",
    "                like = wait.until(EC.presence_of_element_located((By.XPATH, path)))\n",
    "                like.click()\n",
    "            \n",
    "                cancle_path = \"//div[5]/div[3]/button\"\n",
    "                cancle = driver.find_element_by_xpath(cancle_path)\n",
    "                cancle.click()\n",
    "        else:\n",
    "            print(\"Already Liked\")\n",
    "        like = True\n",
    "        \n",
    "    except Exception:\n",
    "        like = False\n",
    "    return like"
   ]
  },
  {
   "cell_type": "code",
   "execution_count": 13,
   "metadata": {},
   "outputs": [],
   "source": [
    "def Unlike_posts(driver):\n",
    "    like = True\n",
    "    wait = WebDriverWait(driver, 5)\n",
    "    try:\n",
    "        time.sleep(3)\n",
    "        post = driver.find_element_by_class_name(\"_9AhH0\")\n",
    "        post.click()\n",
    "        path = \"//*[name()='svg']\"\n",
    "        list = driver.find_elements_by_xpath(path)[27].get_attribute(\"aria-label\")\n",
    "                    \n",
    "        cancle_path = \"//div[5]/div[3]/button\"\n",
    "        cancle = driver.find_element_by_xpath(cancle_path)\n",
    "        cancle.click()\n",
    "        \n",
    "        \n",
    "        if list == \"Unlike\":\n",
    "            for i in range(5):\n",
    "                post = driver.find_elements_by_class_name(\"_9AhH0\")[i]\n",
    "                post.click()\n",
    "\n",
    "                path = \"//div[3]/section[1]/span[1]/button\"\n",
    "                like = wait.until(EC.presence_of_element_located((By.XPATH, path)))\n",
    "                like.click()\n",
    "            \n",
    "                cancle_path = \"//div[5]/div[3]/button\"\n",
    "                cancle = driver.find_element_by_xpath(cancle_path)\n",
    "                cancle.click()\n",
    "        else:\n",
    "            print(\"Unliked\")\n",
    "        like = False\n",
    "        \n",
    "    except Exception:\n",
    "        like = True\n",
    "    return like"
   ]
  },
  {
   "cell_type": "code",
   "execution_count": 14,
   "metadata": {
    "scrolled": true
   },
   "outputs": [
    {
     "name": "stdout",
     "output_type": "stream",
     "text": [
      "error\n"
     ]
    }
   ],
   "source": [
    "like_post = like_posts(driver)\n",
    "if like_post:\n",
    "    print(\"30 posts liked\")\n",
    "else:\n",
    "    print(\"error\")"
   ]
  },
  {
   "cell_type": "code",
   "execution_count": 15,
   "metadata": {
    "scrolled": true
   },
   "outputs": [
    {
     "name": "stdout",
     "output_type": "stream",
     "text": [
      "error\n"
     ]
    }
   ],
   "source": [
    "Unlike_post = Unlike_posts(driver)\n",
    "if Unlike_post is not True:\n",
    "    print(\"30 posts Unliked\")\n",
    "else:\n",
    "    print(\"error\")"
   ]
  },
  {
   "cell_type": "markdown",
   "metadata": {},
   "source": [
    "### Completly working code Till now"
   ]
  },
  {
   "cell_type": "code",
   "execution_count": 18,
   "metadata": {},
   "outputs": [],
   "source": [
    "def Folowers(driver):\n",
    "    time.sleep(5)\n",
    "    l = []\n",
    "    try :\n",
    "        wait = WebDriverWait(driver, 20)\n",
    "        path = \"/html/body/div[1]/section/main/div/header/section/ul/li[2]/a\"\n",
    "        follow_list = wait.until(EC.presence_of_element_located((By.XPATH, path)))\n",
    "        follow_list.click()\n",
    "    \n",
    "        time.sleep(2)\n",
    "        path = '//div[@class = \"PZuss\"]//li'\n",
    "        btn = wait.until(EC.presence_of_all_elements_located((By.XPATH, path)))\n",
    "    \n",
    "        while len(btn) < 500:\n",
    "            path = '/html/body/div[5]/div/div/div[2]'\n",
    "            scr1 = driver.find_element_by_xpath(path) \n",
    "            driver.execute_script(\"arguments[0].scrollTop = arguments[0].scrollHeight\", scr1)\n",
    "            #btn = wait.until(EC.presence_of_all_elements_located((By.XPATH,path)))\n",
    "            #print(btn)\n",
    "            \n",
    "        k = driver.find_elements_by_xpath(\"//div/div[1]/div[2]/div[1]/span/a\")\n",
    "        for i in range(250):\n",
    "            #if i >len(k):\n",
    "                print(k[i].get_attribute(\"innerHTML\"))\n",
    "                l.append(k[i].get_attribute(\"innerHTML\"))\n",
    "            #else:\n",
    "                print(\"less than 500 followers\")\n",
    "        canc = driver.find_element_by_xpath(\"/html/body/div[5]/div/div/div[1]/div/div[2]/button\")\n",
    "        canc.click()\n",
    "    except Exception:\n",
    "        print(\"Error\")\n",
    "        return False\n",
    "    return l\n",
    "        "
   ]
  },
  {
   "cell_type": "raw",
   "metadata": {},
   "source": [
    "open_SD = open_acc(driver, \"garg4693\")\n",
    "if open_SD:\n",
    "    print(\"half work done\")\n",
    "    flw1 = Folowers(driver)\n",
    "#open_SD = open_acc(driver, \"gtbitconfessions2k20\")\n",
    "#flw2 = Folowers(driver)"
   ]
  },
  {
   "cell_type": "raw",
   "metadata": {},
   "source": [
    "flw1 = Folowers(driver)"
   ]
  },
  {
   "cell_type": "code",
   "execution_count": 21,
   "metadata": {},
   "outputs": [],
   "source": [
    "path = '/html/body/div[5]/div/div/div[2]'\n",
    "scr1 = driver.find_element_by_xpath(path) \n",
    "driver.execute_script(\"arguments[0].scrollTop = arguments[0].scrollHeight\", scr1)"
   ]
  },
  {
   "cell_type": "code",
   "execution_count": null,
   "metadata": {},
   "outputs": [],
   "source": []
  }
 ],
 "metadata": {
  "kernelspec": {
   "display_name": "Python 3",
   "language": "python",
   "name": "python3"
  },
  "language_info": {
   "codemirror_mode": {
    "name": "ipython",
    "version": 3
   },
   "file_extension": ".py",
   "mimetype": "text/x-python",
   "name": "python",
   "nbconvert_exporter": "python",
   "pygments_lexer": "ipython3",
   "version": "3.8.5"
  }
 },
 "nbformat": 4,
 "nbformat_minor": 4
}
